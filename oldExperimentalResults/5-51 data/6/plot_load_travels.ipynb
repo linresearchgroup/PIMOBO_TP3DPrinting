{
 "cells": [
  {
   "cell_type": "code",
   "execution_count": 1,
   "id": "f69bd430",
   "metadata": {},
   "outputs": [],
   "source": [
    "import numpy as np\n",
    "import matplotlib.pyplot as plt\n",
    "import os"
   ]
  },
  {
   "cell_type": "code",
   "execution_count": 2,
   "id": "1b707703",
   "metadata": {},
   "outputs": [],
   "source": [
    "# first find which lines are headings.\n",
    "def read_log_startline(file_name):\n",
    "    with open(file_name, 'r') as log_file:\n",
    "        data_lines = []\n",
    "        for i, line in enumerate(log_file.readlines()):\n",
    "            log_line = line.split()\n",
    "            data_lines.append(log_line)\n",
    "            try:\n",
    "                if log_line[0] == '1':\n",
    "                    start_line = i\n",
    "                    print ('data start line is:', i)      \n",
    "            except:\n",
    "                pass\n",
    "    return data_lines, start_line\n",
    "\n",
    "# check whether load and travel are in the data headins line\n",
    "def load_travel_findcolumn(heading_line):\n",
    "    try:\n",
    "       for i, head in enumerate(heading_line):\n",
    "            if head.lower() == 'load':\n",
    "                load_col = i\n",
    "                print ('load col was found')\n",
    "            elif head.lower() == 'travel':\n",
    "                travel_col = i\n",
    "                print ('travel col was found')\n",
    "            else:\n",
    "                print (head, 'is not used')\n",
    "    except:\n",
    "        print ('load and travel were not found') \n",
    "    return (load_col, travel_col)\n",
    "\n",
    "# extract Load and Travels variables in np array\n",
    "def extract_loads_travels(data_lines):\n",
    "    loads = []\n",
    "    travels = []\n",
    "    for line in data_lines:\n",
    "        load = float(line[load_col])\n",
    "        travel = float(line[travel_col])\n",
    "        loads.append(load)\n",
    "        travels.append(travel)\n",
    "    \n",
    "    loads = np.array(loads)\n",
    "    travels = np.array(travels)\n",
    "    return (loads, travels)"
   ]
  },
  {
   "cell_type": "code",
   "execution_count": 3,
   "id": "47707b88",
   "metadata": {},
   "outputs": [
    {
     "name": "stdout",
     "output_type": "stream",
     "text": [
      "['2.log', '3.log', '4.log', '1.log', '5.log']\n",
      "data start line is: 6\n",
      "Reading is not used\n",
      "load col was found\n",
      "travel col was found\n",
      "Time is not used\n",
      "data start line is: 6\n",
      "Reading is not used\n",
      "load col was found\n",
      "travel col was found\n",
      "Time is not used\n",
      "data start line is: 6\n",
      "Reading is not used\n",
      "load col was found\n",
      "travel col was found\n",
      "Time is not used\n",
      "data start line is: 6\n",
      "Reading is not used\n",
      "load col was found\n",
      "travel col was found\n",
      "Time is not used\n",
      "data start line is: 6\n",
      "Reading is not used\n",
      "load col was found\n",
      "travel col was found\n",
      "Time is not used\n"
     ]
    },
    {
     "data": {
      "image/png": "[encoded data removed]",
      "text/plain": [
       "<Figure size 432x288 with 1 Axes>"
      ]
     },
     "metadata": {
      "needs_background": "light"
     },
     "output_type": "display_data"
    }
   ],
   "source": [
    "log_files = []\n",
    "for file in os.listdir(\"./\"):\n",
    "    if file.endswith(\".log\"):\n",
    "        log_files.append(file)\n",
    "print (log_files)\n",
    "\n",
    "for file_name in log_files:\n",
    "    data_lines, start_line = read_log_startline (file_name=file_name)\n",
    "    heading_line = data_lines [start_line-1]\n",
    "    load_col, travel_col = load_travel_findcolumn(heading_line=heading_line)\n",
    "    data_lines = data_lines [start_line:]\n",
    "    loads, travels = extract_loads_travels (data_lines=data_lines)\n",
    "    plt.scatter(travels, loads)\n",
    "    \n",
    "plt.xlabel('Travels')\n",
    "plt.ylabel('loads')\n",
    "plt.show()\n"
   ]
  }
 ],
 "metadata": {
  "kernelspec": {
   "display_name": "Python 3 (ipykernel)",
   "language": "python",
   "name": "python3"
  },
  "language_info": {
   "codemirror_mode": {
    "name": "ipython",
    "version": 3
   },
   "file_extension": ".py",
   "mimetype": "text/x-python",
   "name": "python",
   "nbconvert_exporter": "python",
   "pygments_lexer": "ipython3",
   "version": "3.9.10"
  }
 },
 "nbformat": 4,
 "nbformat_minor": 5
}
