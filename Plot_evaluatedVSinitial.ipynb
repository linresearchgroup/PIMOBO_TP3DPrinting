{
 "cells": [
  {
   "cell_type": "code",
   "execution_count": 1,
   "id": "03bf137a",
   "metadata": {},
   "outputs": [
    {
     "name": "stderr",
     "output_type": "stream",
     "text": [
      "/home/kianoosh/anaconda3/envs/my-rdkit-env/lib/python3.9/site-packages/tqdm/auto.py:22: TqdmWarning: IProgress not found. Please update jupyter and ipywidgets. See https://ipywidgets.readthedocs.io/en/stable/user_install.html\n",
      "  from .autonotebook import tqdm as notebook_tqdm\n"
     ]
    }
   ],
   "source": [
    "import time\n",
    "import os\n",
    "import io\n",
    "\n",
    "from random import seed\n",
    "from random import randint\n",
    "\n",
    "from argparse import ArgumentParser, Namespace\n",
    "import yaml\n",
    "from multiprocessing import cpu_count\n",
    "\n",
    "import matplotlib.pyplot as plt\n",
    "\n",
    "# default is to maximize the objectives\n",
    "import time as time\n",
    "import copy\n",
    "%matplotlib inline\n",
    "import matplotlib.pyplot as plt\n",
    "import pandas as pd\n",
    "import seaborn as sns\n",
    "import math\n",
    "from scipy.stats import norm\n",
    "\n",
    "# example of a gaussian process surrogate function\n",
    "from math import sin\n",
    "from math import pi\n",
    "import numpy as np\n",
    "from numpy import arange\n",
    "from numpy import asarray\n",
    "from numpy.random import normal\n",
    "from numpy.random import uniform\n",
    "from numpy.random import random\n",
    "from numpy import cov\n",
    "from numpy import mean\n",
    "from numpy import std\n",
    "\n",
    "from warnings import catch_warnings\n",
    "from warnings import simplefilter\n",
    "\n",
    "\n",
    "from autooed.utils.sampling import lhs\n",
    "import random\n",
    "#import xgboost as xgb\n",
    "#from xgboost import XGBRegressor\n",
    "#from xgboost import plot_tree\n",
    "from sklearn import linear_model\n",
    "from sklearn import ensemble\n",
    "from sklearn.tree import DecisionTreeRegressor\n",
    "from sklearn.model_selection import GridSearchCV\n",
    "from sklearn.model_selection import train_test_split\n",
    "from sklearn import preprocessing\n",
    "from sklearn.pipeline import make_pipeline\n",
    "from sklearn.metrics import r2_score, mean_squared_error\n",
    "from sklearn.tree import export_graphviz\n",
    "from sklearn import svm\n",
    "from sklearn.neural_network import MLPRegressor\n",
    "from sklearn.neighbors import KNeighborsRegressor\n",
    "from sklearn.model_selection import LeaveOneOut\n",
    "from sklearn.metrics import mean_absolute_error, accuracy_score\n",
    "from sklearn.inspection import partial_dependence, plot_partial_dependence\n",
    "from sklearn.decomposition import PCA\n",
    "from sklearn.gaussian_process import GaussianProcessRegressor\n",
    "from sklearn.ensemble import RandomForestRegressor, RandomForestClassifier\n",
    "# loocv to manually evaluate the performance of a random forest classifier\n",
    "from sklearn.model_selection import LeaveOneOut, cross_val_score\n",
<<<<<<< HEAD
    "import matplotlib as mpl\n",
=======
    "\n",
>>>>>>> 97af2b00aa8533b72eea413eba3a91cd574e4aad
    "from scipy.stats import pearsonr as pearsonr\n",
    "from scipy import ndimage, misc\n",
    "import pickle\n",
    "import re\n",
    "from rdkit import Chem\n",
    "from rdkit.Chem import AllChem\n",
    "from rdkit.Chem import Descriptors\n",
    "from chainer_chemistry.datasets.molnet import get_molnet_dataset\n",
    "# the package is in the same directory\n",
    "# get Today's date from python!\n",
    "from datetime import datetime\n",
    "from autooed.utils.sampling import lhs\n",
    "from autooed.problem import build_problem\n",
    "from autooed.mobo import build_algorithm\n",
    "from autooed.utils.seed import set_seed\n",
    "from autooed.utils.initialization import generate_random_initial_samples, load_provided_initial_samples\n",
    "from autooed.utils.plot import plot_performance_space, plot_performance_metric\n",
    "from autooed.utils.plot import plot_performance_space_diffcolor\n",
    "from argparse import ArgumentParser, Namespace\n",
    "from arguments import get_args"
   ]
  },
  {
   "cell_type": "code",
   "execution_count": 2,
   "id": "unlike-apollo",
   "metadata": {},
   "outputs": [
    {
<<<<<<< HEAD
     "name": "stdout",
     "output_type": "stream",
     "text": [
      "Accuracy: 1.000\n",
      "Accuracy: 1.000\n"
     ]
    },
    {
     "name": "stderr",
     "output_type": "stream",
     "text": [
      "/tmp/ipykernel_9638/2421404653.py:62: DataConversionWarning: A column-vector y was passed when a 1d array was expected. Please change the shape of y to (n_samples,), for example using ravel().\n",
      "  RF_print.fit(X, Y)\n"
=======
     "name": "stderr",
     "output_type": "stream",
     "text": [
      "/tmp/ipykernel_512631/2421404653.py:62: DataConversionWarning: A column-vector y was passed when a 1d array was expected. Please change the shape of y to (n_samples,), for example using ravel().\n",
      "  RF_print.fit(X, Y)\n"
     ]
    },
    {
     "name": "stdout",
     "output_type": "stream",
     "text": [
      "Accuracy: 1.000\n",
      "Accuracy: 1.000\n"
>>>>>>> 97af2b00aa8533b72eea413eba3a91cd574e4aad
     ]
    }
   ],
   "source": [
    "#### preprocessing \n",
    "# printability as Y\n",
    "df = pd.read_csv('Yuchao_20220816.csv')\n",
    "\n",
    "Printability = np.asarray (df['Printability']).reshape(1,-1).T\n",
    "Tg = np.asarray (df['Tg']).reshape(1,-1).T\n",
    "Tg[np.isnan(Tg)] = 200\n",
    "Tg_group = [1 if 10<i<60 else 0 for i in Tg]\n",
    "Tg_group = np.array(Tg_group)\n",
    "\n",
    "toughness = np.asarray (df['Toughness(MJ/m3)']).reshape(1,-1).T\n",
    "toughness[np.isnan(toughness)] = 0\n",
    "strength = np.asarray (df['Tensile_Strength(MPa)']).reshape(1,-1).T\n",
    "strength[np.isnan(strength)] = 0\n",
    "strain = np.asarray (df['Tensile_Strain_percentage']).reshape(1,-1).T\n",
    "strain[np.isnan(strain)] = 0\n",
    "\n",
    "Y0 = Printability\n",
    "Y = np.where(Y0 == 'Y', 1, 0)\n",
    "\n",
    "#X_ = df.to_numpy()\n",
    "A_Ratio = np.asarray (df['R1(HA)']).reshape(1,-1)\n",
    "B_Ratio = np.asarray (df['R2(IA)']).reshape(1,-1)\n",
    "C_Ratio = np.asarray (df['R3(NVP)']).reshape(1,-1)\n",
    "D_Ratio = np.asarray (df['R4(AA)']).reshape(1,-1)\n",
    "E_Ratio = np.asarray (df['R5(HEAA)']).reshape(1,-1)\n",
    "F_Ratio = np.asarray (df['R6(IBOA)']).reshape(1,-1)\n",
    "\n",
    "# did not consider F_Ratio, since we do not have it in optimization\n",
    "X_ = np.concatenate((A_Ratio.T, B_Ratio.T, C_Ratio.T, D_Ratio.T, E_Ratio.T), axis=1)\n",
    "\n",
    "\n",
    "# load monomers descriptors\n",
    "df = pd.read_csv('monomers_info.csv')\n",
    "energy = np.array (-df['dft_sp_E_RB3LYP'])\n",
    "pol_area = np.array (df['polar_surface_area'])\n",
    "complexity = np.array (df['complexity'])\n",
    "HAMW = np.array (df['HAMW'])\n",
    "solubility = np.array (df['solubility_sqrt_MJperm3'])\n",
    "solubility_d = np.array (df['solubility_dipole'])\n",
    "solubility_h = np.array (df['solubility_h'])\n",
    "solubility_p = np.array (df['solubility_p'])\n",
    "\n",
    "X0 = np.concatenate((A_Ratio.T, B_Ratio.T, C_Ratio.T, D_Ratio.T, E_Ratio.T, F_Ratio.T), axis=1)\n",
    "X_energy = np.multiply (X0, energy)\n",
    "#X_pol_area = np.multiply (X0, pol_area)\n",
    "X_complexity = np.multiply (X0, complexity)\n",
    "X_HAMW = np.multiply (X0, HAMW)\n",
    "X_solubility_d = np.multiply (X0, solubility_d)\n",
    "X_solubility_h = np.multiply (X0, solubility_h)\n",
    "X_solubility_p = np.multiply (X0, solubility_p)\n",
    "\n",
    "X = np.concatenate ((X_energy, X_complexity, X_HAMW, \n",
    "                    X_solubility_d, X_solubility_h, X_solubility_p), axis=1)\n",
    "\n",
    "# got more information about input varialbe may reduce the accuracy for \n",
    "# few samples, but it is informative for new samples.\n",
    "# The hyperparameters are fixed using one-leave-out in file \"leavout_CV_RF_printability_Tg.ipynb\"\n",
    "RF_print = RandomForestClassifier(random_state=0, \n",
    "                                  max_depth = 5, \n",
    "                                  n_estimators = 50)\n",
    "RF_print.fit(X, Y)\n",
    "Yhat = RF_print.predict(X)\n",
    "acc = accuracy_score(Y, Yhat)\n",
    "print('Accuracy: %.3f' % acc)\n",
    "#print (RF_print.get_params(deep=True))\n",
    "\n",
    "RF_Tg = RandomForestClassifier(random_state=0, \n",
    "                                  max_depth = 5, \n",
    "                                  n_estimators = 50)\n",
    "RF_Tg.fit(X, Tg_group)\n",
    "Yhat = RF_Tg.predict(X)\n",
    "acc = accuracy_score(Tg_group, Yhat)\n",
    "print('Accuracy: %.3f' % acc)\n",
    "#print (RF_Tg.get_params(deep=True))"
   ]
  },
  {
<<<<<<< HEAD
=======
   "cell_type": "code",
   "execution_count": 3,
   "id": "3011127f",
   "metadata": {},
   "outputs": [
    {
     "data": {
      "text/plain": [
       "array([[ 31.2192 ,  32.8238 ,   2.04144,  14.28651,  19.0908 ,  45.15384],\n",
       "       [ 52.032  ,  50.87689,  11.22792,   1.36062,  16.9696 ,  28.22115],\n",
       "       [ 12.48768,  27.90023,  27.55944,   7.48341,  28.6362 ,  22.57692],\n",
       "       [  0.     ,  16.4119 ,  30.6216 ,  13.6062 ,  21.212  ,  37.6282 ],\n",
       "       [ 72.8448 ,  57.44165,   0.     ,   0.     ,  10.606  ,  37.6282 ],\n",
       "       [ 31.2192 ,  55.80046,   7.14504,  10.20465,  10.606  ,  35.74679],\n",
       "       [ 27.05664,  13.12952,  16.33152,  24.49116,   2.1212 ,  47.03525],\n",
       "       [ 29.13792,  13.12952,   3.06216,  17.68806,  26.515  ,  45.15384],\n",
       "       [  0.     ,   0.     ,  51.036  ,   0.     ,  31.818  ,  37.6282 ],\n",
       "       [  0.     ,   8.20595,   0.     ,  17.00775,  21.212  ,  94.0705 ],\n",
       "       [ 20.8128 ,   0.     ,  25.518  ,  17.00775,  26.515  ,  28.22115],\n",
       "       [ 24.97536,  41.02975,  23.47656,  14.96682,  15.909  ,   5.64423],\n",
       "       [  6.24384,  22.97666,  26.53872,  20.4093 ,  23.3332 ,   9.40705],\n",
       "       [ 83.2512 ,   0.     ,  20.4144 ,  13.6062 ,  21.212  ,   0.     ],\n",
       "       [  0.     ,  41.02975,   0.     ,  23.81085,  26.515  ,  28.22115],\n",
       "       [104.064  ,  16.4119 ,  10.2072 ,   6.8031 ,  10.606  ,  18.8141 ],\n",
       "       [145.6896 ,  16.4119 ,  20.4144 ,   0.     ,   0.     ,   0.     ],\n",
       "       [ 60.35712,  18.05309,  19.39368,  18.36837,   7.4242 ,  13.16987],\n",
       "       [ 58.27584,  34.46499,   2.04144,  10.20465,  26.515  ,  16.93269],\n",
       "       [ 62.4384 ,   0.     ,   0.     ,   6.8031 ,  10.606  ,  94.0705 ],\n",
       "       [ 27.05664,   8.20595,  18.37296,   3.40155,  22.2726 ,  71.49358],\n",
       "       [ 91.57632,  34.46499,  10.2072 ,  10.20465,  10.606  ,   0.     ],\n",
       "       [ 54.11328,   6.56476,  22.45584,  19.04868,   7.4242 ,  24.45833],\n",
       "       [ 12.48768,  45.95332,   0.     ,  17.00775,  34.9998 ,  15.05128],\n",
       "       [ 20.8128 ,  26.25904,  18.37296,   2.72124,  25.4544 ,  52.67948],\n",
       "       [ 10.4064 ,  18.05309,  17.35224,  12.24558,  37.121  ,  26.33974],\n",
       "       [  0.     ,  49.2357 ,  71.4504 ,   0.     ,   0.     ,   0.     ],\n",
       "       [ 41.6256 ,   0.     ,  81.6576 ,   0.     ,   0.     ,   0.     ],\n",
       "       [ 20.8128 ,   0.     ,  91.8648 ,   0.     ,   0.     ,   0.     ],\n",
       "       [  0.     ,  82.0595 ,  51.036  ,   0.     ,   0.     ,   0.     ],\n",
       "       [  0.     , 106.67735,  15.3108 ,  13.6062 ,   0.     ,   0.     ],\n",
       "       [  0.     , 147.7071 ,  10.2072 ,   0.     ,   0.     ,   0.     ],\n",
       "       [ 62.4384 ,  49.2357 ,  10.2072 ,   6.8031 ,  10.606  ,  18.8141 ],\n",
       "       [ 20.8128 , 131.2952 ,   0.     ,   6.8031 ,   0.     ,   0.     ],\n",
       "       [166.5024 ,  16.4119 ,   0.     ,   6.8031 ,   0.     ,   0.     ],\n",
       "       [ 93.6576 ,  73.85355,   0.     ,   0.     ,  10.606  ,   0.     ],\n",
       "       [ 41.6256 , 114.8833 ,   0.     ,   0.     ,   0.     ,  18.8141 ],\n",
       "       [ 62.4384 ,  82.0595 ,  20.4144 ,   0.     ,   0.     ,   0.     ],\n",
       "       [124.8768 ,  57.44165,   5.1036 ,   0.     ,   0.     ,   0.     ],\n",
       "       [104.064  ,  82.0595 ,   0.     ,   0.     ,   0.     ,   0.     ],\n",
       "       [ 72.8448 ,  39.38856,   0.     ,   6.8031 ,  18.0302 ,  26.33974],\n",
       "       [ 35.38176,  44.31213,  11.22792,  11.56527,   9.5454 ,  35.74679],\n",
       "       [ 29.13792,  32.8238 ,   4.08288,   7.48341,  20.1514 ,  60.20512]])"
      ]
     },
     "execution_count": 3,
     "metadata": {},
     "output_type": "execute_result"
    }
   ],
   "source": [
    "X_HAMW"
   ]
  },
  {
   "cell_type": "code",
   "execution_count": 4,
   "id": "6a075bd5",
   "metadata": {},
   "outputs": [
    {
     "data": {
      "text/plain": [
       "array([[0.15, 0.2 , 0.02, 0.21, 0.18],\n",
       "       [0.25, 0.31, 0.11, 0.02, 0.16],\n",
       "       [0.06, 0.17, 0.27, 0.11, 0.27],\n",
       "       [0.  , 0.1 , 0.3 , 0.2 , 0.2 ],\n",
       "       [0.35, 0.35, 0.  , 0.  , 0.1 ],\n",
       "       [0.15, 0.34, 0.07, 0.15, 0.1 ],\n",
       "       [0.13, 0.08, 0.16, 0.36, 0.02],\n",
       "       [0.14, 0.08, 0.03, 0.26, 0.25],\n",
       "       [0.  , 0.  , 0.5 , 0.  , 0.3 ],\n",
       "       [0.  , 0.05, 0.  , 0.25, 0.2 ],\n",
       "       [0.1 , 0.  , 0.25, 0.25, 0.25],\n",
       "       [0.12, 0.25, 0.23, 0.22, 0.15],\n",
       "       [0.03, 0.14, 0.26, 0.3 , 0.22],\n",
       "       [0.4 , 0.  , 0.2 , 0.2 , 0.2 ],\n",
       "       [0.  , 0.25, 0.  , 0.35, 0.25],\n",
       "       [0.5 , 0.1 , 0.1 , 0.1 , 0.1 ],\n",
       "       [0.7 , 0.1 , 0.2 , 0.  , 0.  ],\n",
       "       [0.29, 0.11, 0.19, 0.27, 0.07],\n",
       "       [0.28, 0.21, 0.02, 0.15, 0.25],\n",
       "       [0.3 , 0.  , 0.  , 0.1 , 0.1 ],\n",
       "       [0.13, 0.05, 0.18, 0.05, 0.21],\n",
       "       [0.44, 0.21, 0.1 , 0.15, 0.1 ],\n",
       "       [0.26, 0.04, 0.22, 0.28, 0.07],\n",
       "       [0.06, 0.28, 0.  , 0.25, 0.33],\n",
       "       [0.1 , 0.16, 0.18, 0.04, 0.24],\n",
       "       [0.05, 0.11, 0.17, 0.18, 0.35],\n",
       "       [0.  , 0.3 , 0.7 , 0.  , 0.  ],\n",
       "       [0.2 , 0.  , 0.8 , 0.  , 0.  ],\n",
       "       [0.1 , 0.  , 0.9 , 0.  , 0.  ],\n",
       "       [0.  , 0.5 , 0.5 , 0.  , 0.  ],\n",
       "       [0.  , 0.65, 0.15, 0.2 , 0.  ],\n",
       "       [0.  , 0.9 , 0.1 , 0.  , 0.  ],\n",
       "       [0.3 , 0.3 , 0.1 , 0.1 , 0.1 ],\n",
       "       [0.1 , 0.8 , 0.  , 0.1 , 0.  ],\n",
       "       [0.8 , 0.1 , 0.  , 0.1 , 0.  ],\n",
       "       [0.45, 0.45, 0.  , 0.  , 0.1 ],\n",
       "       [0.2 , 0.7 , 0.  , 0.  , 0.  ],\n",
       "       [0.3 , 0.5 , 0.2 , 0.  , 0.  ],\n",
       "       [0.6 , 0.35, 0.05, 0.  , 0.  ],\n",
       "       [0.5 , 0.5 , 0.  , 0.  , 0.  ],\n",
       "       [0.35, 0.24, 0.  , 0.1 , 0.17],\n",
       "       [0.17, 0.27, 0.11, 0.17, 0.09],\n",
       "       [0.14, 0.2 , 0.04, 0.11, 0.19]])"
      ]
     },
     "execution_count": 4,
     "metadata": {},
     "output_type": "execute_result"
    }
   ],
   "source": [
    "X_"
   ]
  },
  {
>>>>>>> 97af2b00aa8533b72eea413eba3a91cd574e4aad
   "cell_type": "markdown",
   "id": "daily-assistant",
   "metadata": {},
   "source": [
    "RF.n_estimators = int (5 * RF.n_estimators)\n",
    "RF2 = RF.fit(X_train[0:5,:], y_train[0:5])\n",
    "pred = RF2.predict_proba(X_train)\n",
    "print (RF2.score(X_train, y_train))\n",
    "print (RF2.score(X_test, y_test))\n"
   ]
  },
  {
   "cell_type": "code",
<<<<<<< HEAD
   "execution_count": 3,
=======
   "execution_count": 5,
>>>>>>> 97af2b00aa8533b72eea413eba3a91cd574e4aad
   "id": "49534dc3",
   "metadata": {},
   "outputs": [],
   "source": [
    "### Start the real optimization\n",
    "# Change the default values for new argument\n",
    "def get_general_args(args=None):\n",
    "    '''\n",
    "    General arguments: problem and algorithm description, experiment settings\n",
    "    '''\n",
    "    parser = ArgumentParser()\n",
    "\n",
    "    parser.add_argument('--problem', type=str, default='printing3d_dlp', \n",
    "        help='optimization problem')\n",
    "    parser.add_argument('--algo', type=str, default='tsemo',\n",
    "        help='type of algorithm to use with some predefined arguments, or custom arguments')\n",
    "    parser.add_argument('--seed', type=int, default=10,\n",
    "        help='the specific seed to run')\n",
    "    parser.add_argument('--batch-size', type=int, default=1, \n",
    "        help='size of the batch in optimization')\n",
    "    parser.add_argument('--n-init-sample', type=int, default=0, \n",
    "        help='number of initial design samples')\n",
    "    parser.add_argument('--n-total-sample', type=int, default=200, \n",
    "        help='number of total design samples (budget)')\n",
    "\n",
    "    args, _ = parser.parse_known_args(args)\n",
    "    return args\n",
    "\n",
    "\n",
    "def get_surroagte_args(args=None):\n",
    "    '''\n",
    "    Arguments for fitting the surrogate model\n",
    "    '''\n",
    "    parser = ArgumentParser()\n",
    "\n",
    "    parser.add_argument('--surrogate', type=str, \n",
    "        choices=['gp', 'nn', 'bnn'], default='gp', \n",
    "        help='type of the surrogate model')\n",
    "\n",
    "    args, _ = parser.parse_known_args(args)\n",
    "    return args\n",
    "\n",
    "\n",
    "def get_acquisition_args(args=None):\n",
    "    '''\n",
    "    Arguments for acquisition function\n",
    "    '''\n",
    "    parser = ArgumentParser()\n",
    "\n",
    "    parser.add_argument('--acquisition', type=str,  \n",
    "        choices=['identity', 'pi', 'ei', 'ucb', 'ts'], default='ts', \n",
    "        help='type of the acquisition function')\n",
    "\n",
    "    args, _ = parser.parse_known_args(args)\n",
    "    return args\n",
    "\n",
    "\n",
    "def get_solver_args(args=None):\n",
    "    '''\n",
    "    Arguments for multi-objective solver\n",
    "    '''\n",
    "    parser = ArgumentParser()\n",
    "\n",
    "    # general solver\n",
    "    parser.add_argument('--solver', type=str, \n",
    "        choices=['nsga2', 'moead', 'parego', 'discovery', 'ga', 'cmaes'], default='nsga2', \n",
    "        help='type of the multiobjective solver')\n",
    "    parser.add_argument('--n-process', type=int, default=1,\n",
    "        help='number of processes to be used for parallelization')\n",
    "\n",
    "    args, _ = parser.parse_known_args(args)\n",
    "    return args\n",
    "\n",
    "\n",
    "def get_selection_args(args=None):\n",
    "    '''\n",
    "    Arguments for sample selection\n",
    "    '''\n",
    "    parser = ArgumentParser()\n",
    "\n",
    "    parser.add_argument('--selection', type=str,\n",
    "        choices=['direct', 'hvi', 'random', 'uncertainty'], default='hvi', \n",
    "        help='type of selection method for new batch')\n",
    "\n",
    "    args, _ = parser.parse_known_args(args)\n",
    "    return args\n",
    "\n",
    "def get_args():\n",
    "    '''\n",
    "    Get arguments from all components\n",
    "    You can specify args-path argument to directly load arguments from specified yaml file\n",
    "    '''\n",
    "    parser = ArgumentParser()\n",
    "    parser.add_argument('--args-path', type=str, default=None,\n",
    "        help='used for directly loading arguments from path of argument file')\n",
    "    args, _ = parser.parse_known_args()\n",
    "\n",
    "    if args.args_path is None:\n",
    "\n",
    "        general_args = get_general_args()\n",
    "        surroagte_args = get_surroagte_args()\n",
    "        acquisition_args = get_acquisition_args()\n",
    "        solver_args = get_solver_args()\n",
    "        selection_args = get_selection_args()\n",
    "\n",
    "        module_cfg = {\n",
    "            'surrogate': vars(surroagte_args),\n",
    "            'acquisition': vars(acquisition_args),\n",
    "            'solver': vars(solver_args),\n",
    "            'selection': vars(selection_args),\n",
    "        }\n",
    "\n",
    "    else:\n",
    "        \n",
    "        with open(args.args_path, 'r') as f:\n",
    "            all_args = yaml.load(f)\n",
    "        \n",
    "        general_args = Namespace(**all_args['general'])\n",
    "        module_cfg = all_args.copy()\n",
    "        module_cfg.pop('general')\n",
    "\n",
    "    return general_args, module_cfg"
   ]
  },
  {
   "cell_type": "raw",
   "id": "fd8c5a96",
   "metadata": {},
   "source": [
    "# load arguments\n",
    "args, module_cfg = get_args()\n",
    "print (args.seed)\n",
    "# set random seed\n",
    "set_seed(args.seed)\n",
    "\n",
    "# build problem\n",
    "problem = build_problem(args.problem)\n",
    "print(problem)\n",
    "\n",
    "# build algorithm\n",
    "algorithm = build_algorithm(args.algo, problem, module_cfg)\n",
    "print(algorithm)\n",
    "\n",
    "# generate initial random samples\n",
    "#X = generate_random_initial_samples(problem, args.n_init_sample)\n",
    "X = generate_random_initial_samples(problem, args.n_init_sample)\n",
    "Y = np.array([problem.evaluate_objective(x) for x in X])\n",
    "\n",
    "print ('read X', X.shape)\n",
    "print ('read Y', Y.shape)\n",
    "\n",
    "path = ['./Yuchao_20220726_X.csv', \n",
    "        './Yuchao_20220726_Y.csv']\n",
    "X, Y = load_provided_initial_samples(path)\n",
    "\n",
    "Y = -Y\n",
    "print ('read X', X.shape)\n",
    "print ('read Y', Y.shape)\n",
    "\n",
    "X0 = X\n",
    "Y0 = Y\n",
    "\n",
    "# optimization\n",
    "while len(X) < args.n_total_sample:\n",
    "    \n",
    "    start = time.time()\n",
    "    # propose design samples\n",
    "    X_next = algorithm.optimize(X, Y, X_busy=None, batch_size=4)\n",
    "    print (X_next)\n",
    "    print (time.time() - start)\n",
    "    # evaluate proposed samples\n",
    "    Y_next = np.array([problem.evaluate_objective(x) for x in X_next])\n",
    "    \n",
    "    # combine into dataset\n",
    "    X = np.vstack([X, X_next])\n",
    "    Y = np.vstack([Y, Y_next])\n",
    "    for x_next in X_next:\n",
    "        printability_new = int (input (\n",
    "            \"ratios A-F {} sum {} Enter Printability 0or1: \".\n",
    "             format(np.round(x_next,2), np.sum(np.round(x_next, 2)))))\n",
    "        Tg_new = float (input (\n",
    "            \"ratios A-F {} sum {} Enter Tg: \".\n",
    "             format(np.round(x_next,2), np.sum(np.round(x_next, 2)))))\n",
    "        new_printability_Tg = [list(x_next), printability_new, Tg_new]\n",
    "        new_printability_Tg = str(new_printability_Tg)\n",
    "        new_printability_Tg = new_printability_Tg.replace(\"[\", \"\")\n",
    "        new_printability_Tg = new_printability_Tg.replace(\"]\", \"\")\n",
    "        with open('printability_Tg.csv','a') as fd:\n",
    "            fd.write(new_printability_Tg)\n",
    "    print(f'{len(X)}/{args.n_total_sample} complete')\n",
    "    print (time.time() - start)\n"
   ]
  },
  {
   "cell_type": "code",
<<<<<<< HEAD
   "execution_count": 4,
=======
   "execution_count": 6,
>>>>>>> 97af2b00aa8533b72eea413eba3a91cd574e4aad
   "id": "b761ca11",
   "metadata": {},
   "outputs": [
    {
     "name": "stdout",
     "output_type": "stream",
     "text": [
      "10\n",
      "========== Problem Definition ==========\n",
      "# name: printing3d_dlp\n",
      "# n_var: 5\n",
      "# n_obj: 2\n",
      "# n_constr: 3\n",
      "\n",
      "\n",
      "Compiled modules for significant speedup can not be used!\n",
      "https://pymoo.org/installation.html#installation\n",
      "\n",
      "To disable this warning:\n",
      "from pymoo.configuration import Configuration\n",
      "Configuration.show_compile_hint = False\n",
      "\n",
      "========== Algorithm Setup ==========\n",
      "# algorithm: TSEMO\n",
      "# surrogate: GaussianProcess\n",
      "# acquisition: ThompsonSampling\n",
      "# solver: NSGA2\n",
      "# selection: HypervolumeImprovement\n",
      "\n",
      "read X (0, 5)\n",
      "read Y (0,)\n",
      "read X (43, 5)\n",
      "read Y (43, 2)\n"
     ]
    }
   ],
   "source": [
    "# load arguments\n",
    "args, module_cfg = get_args()\n",
    "print (args.seed)\n",
    "# set random seed\n",
    "set_seed(args.seed)\n",
    "\n",
    "# build problem\n",
    "problem = build_problem(args.problem)\n",
    "print(problem)\n",
    "\n",
    "# build algorithm\n",
    "algorithm = build_algorithm(args.algo, problem, module_cfg)\n",
    "print(algorithm)\n",
    "\n",
    "# generate initial random samples\n",
    "#X = generate_random_initial_samples(problem, args.n_init_sample)\n",
    "X = generate_random_initial_samples(problem, args.n_init_sample)\n",
    "Y = np.array([problem.evaluate_objective(x) for x in X])\n",
    "\n",
    "print ('read X', X.shape)\n",
    "print ('read Y', Y.shape)\n",
    "\n",
    "path = ['./Yuchao_20220816_X.csv', \n",
    "        './Yuchao_20220816_Y.csv']\n",
    "X, Y = load_provided_initial_samples(path)\n",
    "\n",
    "Y = -Y\n",
    "print ('read X', X.shape)\n",
    "print ('read Y', Y.shape)\n",
    "\n",
    "X0 = X\n",
    "Y0 = Y"
   ]
  },
  {
   "cell_type": "code",
<<<<<<< HEAD
   "execution_count": 5,
=======
   "execution_count": 7,
>>>>>>> 97af2b00aa8533b72eea413eba3a91cd574e4aad
   "id": "ruled-thirty",
   "metadata": {},
   "outputs": [
    {
     "name": "stdout",
     "output_type": "stream",
     "text": [
      "4, 5, 2\n"
     ]
    }
   ],
   "source": [
    "x = 4\n",
    "y = np.array ([5, 2])\n",
    "\n",
    "myCsvRow = [x, list(y)]\n",
    "myCsvRow = str(myCsvRow)\n",
    "myCsvRow = myCsvRow.replace(\"[\", \"\")\n",
    "myCsvRow = myCsvRow.replace(\"]\", \"\")\n",
    "print (myCsvRow)"
   ]
  },
  {
   "cell_type": "code",
<<<<<<< HEAD
   "execution_count": 6,
=======
   "execution_count": 8,
>>>>>>> 97af2b00aa8533b72eea413eba3a91cd574e4aad
   "id": "healthy-resolution",
   "metadata": {},
   "outputs": [
    {
     "name": "stdout",
     "output_type": "stream",
     "text": [
      "0.35, 0.24, 0, 0.1, 0.17, 1, 37.5\n"
     ]
    }
   ],
   "source": [
    "myCsvRow = [0.35, 0.24, 0, 0.1, 0.17, 1, 37.5]\n",
    "myCsvRow = str(myCsvRow)\n",
    "myCsvRow = myCsvRow.replace(\"[\", \"\")\n",
    "myCsvRow = myCsvRow.replace(\"]\", \"\")\n",
    "print (myCsvRow)\n",
    "\n",
    "with open('printability_Tg.csv','a') as fd:\n",
    "    fd.write(myCsvRow)"
   ]
  },
  {
   "cell_type": "code",
<<<<<<< HEAD
   "execution_count": 7,
=======
   "execution_count": 9,
>>>>>>> 97af2b00aa8533b72eea413eba3a91cd574e4aad
   "id": "28841b91",
   "metadata": {},
   "outputs": [
    {
     "data": {
      "text/html": [
       "<div>\n",
       "<style scoped>\n",
       "    .dataframe tbody tr th:only-of-type {\n",
       "        vertical-align: middle;\n",
       "    }\n",
       "\n",
       "    .dataframe tbody tr th {\n",
       "        vertical-align: top;\n",
       "    }\n",
       "\n",
       "    .dataframe thead th {\n",
       "        text-align: right;\n",
       "    }\n",
       "</style>\n",
       "<table border=\"1\" class=\"dataframe\">\n",
       "  <thead>\n",
       "    <tr style=\"text-align: right;\">\n",
       "      <th></th>\n",
       "      <th>Strength</th>\n",
       "      <th>Toughness</th>\n",
       "    </tr>\n",
       "  </thead>\n",
       "  <tbody>\n",
       "    <tr>\n",
       "      <th>0</th>\n",
       "      <td>-29.22</td>\n",
       "      <td>-0.62</td>\n",
       "    </tr>\n",
       "    <tr>\n",
       "      <th>1</th>\n",
       "      <td>-30.68</td>\n",
       "      <td>-0.70</td>\n",
       "    </tr>\n",
       "    <tr>\n",
       "      <th>2</th>\n",
       "      <td>-36.98</td>\n",
       "      <td>-0.94</td>\n",
       "    </tr>\n",
       "    <tr>\n",
       "      <th>3</th>\n",
       "      <td>-26.97</td>\n",
       "      <td>-17.53</td>\n",
       "    </tr>\n",
       "    <tr>\n",
       "      <th>4</th>\n",
       "      <td>-32.56</td>\n",
       "      <td>-1.35</td>\n",
       "    </tr>\n",
       "    <tr>\n",
       "      <th>5</th>\n",
       "      <td>-24.84</td>\n",
       "      <td>-5.53</td>\n",
       "    </tr>\n",
       "    <tr>\n",
       "      <th>6</th>\n",
       "      <td>-30.70</td>\n",
       "      <td>-17.05</td>\n",
       "    </tr>\n",
       "    <tr>\n",
       "      <th>7</th>\n",
       "      <td>-32.28</td>\n",
       "      <td>-1.33</td>\n",
       "    </tr>\n",
       "    <tr>\n",
       "      <th>8</th>\n",
       "      <td>-6.34</td>\n",
       "      <td>-9.20</td>\n",
       "    </tr>\n",
       "    <tr>\n",
       "      <th>9</th>\n",
       "      <td>-20.44</td>\n",
       "      <td>-0.53</td>\n",
       "    </tr>\n",
<<<<<<< HEAD
       "    <tr>\n",
       "      <th>10</th>\n",
       "      <td>-8.53</td>\n",
       "      <td>-15.26</td>\n",
       "    </tr>\n",
       "    <tr>\n",
       "      <th>11</th>\n",
       "      <td>-16.59</td>\n",
       "      <td>-0.75</td>\n",
       "    </tr>\n",
       "    <tr>\n",
       "      <th>12</th>\n",
       "      <td>-21.56</td>\n",
       "      <td>-0.59</td>\n",
       "    </tr>\n",
       "    <tr>\n",
       "      <th>13</th>\n",
       "      <td>-42.27</td>\n",
       "      <td>-1.49</td>\n",
       "    </tr>\n",
       "    <tr>\n",
       "      <th>14</th>\n",
       "      <td>-15.10</td>\n",
       "      <td>-25.76</td>\n",
       "    </tr>\n",
       "    <tr>\n",
       "      <th>15</th>\n",
       "      <td>-16.05</td>\n",
       "      <td>-21.46</td>\n",
       "    </tr>\n",
       "    <tr>\n",
       "      <th>16</th>\n",
       "      <td>-31.22</td>\n",
       "      <td>-22.56</td>\n",
       "    </tr>\n",
       "    <tr>\n",
       "      <th>17</th>\n",
       "      <td>-20.18</td>\n",
       "      <td>-22.54</td>\n",
       "    </tr>\n",
       "    <tr>\n",
       "      <th>18</th>\n",
       "      <td>-3.25</td>\n",
       "      <td>-3.64</td>\n",
       "    </tr>\n",
       "    <tr>\n",
       "      <th>19</th>\n",
       "      <td>-15.97</td>\n",
       "      <td>-1.12</td>\n",
       "    </tr>\n",
       "    <tr>\n",
       "      <th>20</th>\n",
       "      <td>-12.83</td>\n",
       "      <td>-0.23</td>\n",
       "    </tr>\n",
       "    <tr>\n",
       "      <th>21</th>\n",
       "      <td>-21.08</td>\n",
       "      <td>-1.18</td>\n",
       "    </tr>\n",
       "    <tr>\n",
       "      <th>22</th>\n",
       "      <td>-28.74</td>\n",
       "      <td>-1.09</td>\n",
       "    </tr>\n",
       "    <tr>\n",
       "      <th>23</th>\n",
       "      <td>-14.71</td>\n",
       "      <td>-9.53</td>\n",
       "    </tr>\n",
       "    <tr>\n",
       "      <th>24</th>\n",
       "      <td>-21.95</td>\n",
       "      <td>-3.30</td>\n",
       "    </tr>\n",
       "    <tr>\n",
       "      <th>25</th>\n",
       "      <td>-10.24</td>\n",
       "      <td>-0.38</td>\n",
       "    </tr>\n",
       "    <tr>\n",
       "      <th>26</th>\n",
       "      <td>-20.56</td>\n",
       "      <td>-2.74</td>\n",
       "    </tr>\n",
       "    <tr>\n",
       "      <th>27</th>\n",
       "      <td>-12.70</td>\n",
       "      <td>-0.26</td>\n",
       "    </tr>\n",
=======
>>>>>>> 97af2b00aa8533b72eea413eba3a91cd574e4aad
       "  </tbody>\n",
       "</table>\n",
       "</div>"
      ],
      "text/plain": [
<<<<<<< HEAD
       "    Strength  Toughness\n",
       "0     -29.22      -0.62\n",
       "1     -30.68      -0.70\n",
       "2     -36.98      -0.94\n",
       "3     -26.97     -17.53\n",
       "4     -32.56      -1.35\n",
       "5     -24.84      -5.53\n",
       "6     -30.70     -17.05\n",
       "7     -32.28      -1.33\n",
       "8      -6.34      -9.20\n",
       "9     -20.44      -0.53\n",
       "10     -8.53     -15.26\n",
       "11    -16.59      -0.75\n",
       "12    -21.56      -0.59\n",
       "13    -42.27      -1.49\n",
       "14    -15.10     -25.76\n",
       "15    -16.05     -21.46\n",
       "16    -31.22     -22.56\n",
       "17    -20.18     -22.54\n",
       "18     -3.25      -3.64\n",
       "19    -15.97      -1.12\n",
       "20    -12.83      -0.23\n",
       "21    -21.08      -1.18\n",
       "22    -28.74      -1.09\n",
       "23    -14.71      -9.53\n",
       "24    -21.95      -3.30\n",
       "25    -10.24      -0.38\n",
       "26    -20.56      -2.74\n",
       "27    -12.70      -0.26"
      ]
     },
     "execution_count": 7,
=======
       "   Strength  Toughness\n",
       "0    -29.22      -0.62\n",
       "1    -30.68      -0.70\n",
       "2    -36.98      -0.94\n",
       "3    -26.97     -17.53\n",
       "4    -32.56      -1.35\n",
       "5    -24.84      -5.53\n",
       "6    -30.70     -17.05\n",
       "7    -32.28      -1.33\n",
       "8     -6.34      -9.20\n",
       "9    -20.44      -0.53"
      ]
     },
     "execution_count": 9,
>>>>>>> 97af2b00aa8533b72eea413eba3a91cd574e4aad
     "metadata": {},
     "output_type": "execute_result"
    }
   ],
   "source": [
    "new_evaluated = pd.read_csv ('new_evaluated.csv')\n",
    "new_ratios = new_evaluated.iloc[:, 0:6]\n",
    "Y_eval = new_evaluated.iloc[:, 8:10]\n",
    "Y_eval"
   ]
  },
  {
   "cell_type": "code",
<<<<<<< HEAD
   "execution_count": 8,
=======
   "execution_count": 10,
>>>>>>> 97af2b00aa8533b72eea413eba3a91cd574e4aad
   "id": "9caa04e5",
   "metadata": {},
   "outputs": [
    {
     "data": {
<<<<<<< HEAD
      "image/png": "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\n",
=======
      "image/png": "iVBORw0KGgoAAAANSUhEUgAAAXoAAAEICAYAAABRSj9aAAAAOXRFWHRTb2Z0d2FyZQBNYXRwbG90bGliIHZlcnNpb24zLjUuMSwgaHR0cHM6Ly9tYXRwbG90bGliLm9yZy/YYfK9AAAACXBIWXMAAAsTAAALEwEAmpwYAAAcR0lEQVR4nO3dfZBd9X3f8fdHQrK1xi4grQnoYddh5NjYEzDeqFBcRzYGJAUbt2M3qFsbaJM1BBrcIY0hytjEsSbpdLA9sXFgY2RwdyOH1AEzrggw1BSIy8OK8iAsKDJoJSFVWqA8eXGo0Ld/nLPW3etzd+/e53vO5zVz597zO0+/e3T12d/9nXPPTxGBmZnl17x2V8DMzJrLQW9mlnMOejOznHPQm5nlnIPezCznHPRmZjnnoLeOJOlYSfdIelXS1e2uj1k3c9Bbw0jaKel1Sa9J2i/pO5KOrHFzQ8DzwDsi4vIGVrNjSfqQpB9LelnSi5L+QdJvtLte1v0c9NZoH4+II4FTgN8A/nguKysxD+gDfhI1/KJP0hFzXafdJL0D+CHwDeAYYCnwJ8A/trNelg8OemuKiHgOuA14P4CkU9PW6kuSHpW0empZSXdL2ijpH4BJ4LvA+cAfpt8OPibpLZK+Lmlv+vi6pLek66+WtEfSFyT9H+A7kq6S9LeSRtLun8clvVvSlZIOSNot6aySOlwoaXu67DOSPlcyb2r7l6fr7pN0Ycn8RZKuljSetsbvk7Rotvdd5t3pcdscEW9GxOsRcUdEPJZu54K0hf+NdB9PSjqjmvqn88+V9IikVyT9VNKatPyfSLo+fU/PSfqKpPlz+9e2jhcRfvjRkAewE/hY+no58ATwpySt0xeAdSSNizPT6d502buBXcD7gCOABcANwFdKtv1l4H7gnUAv8GPgT9N5q4GDwH8C3gIsAq4Cfg6cnW7zu8CzwIZ0+78LPFuy/d8CTgAE/CbJH5xTyrb/5XTdden8o9P516TvYSkwH/hnaT1mfN9lx+4d6bwbgbVT2y6Zf0Fah/+Q1uG3gZeBY6qo/6p02TPTeiwF3pPOuwW4DnhbemwfBD7X7s+SHw3+v9nuCviRn0ca9K8BLwHjwLfS0P0C8F/Klr0dOD99fTfw5bL55UH/U2BdyfTZwM709WrgDeCtJfOvAu4smf54Wrf56fTbgQCOqvBebgEuK9n+68ARJfMPAKemwfk6cFLGNmZ83xnLvzd933vSUL8VODaddwGwF1DJ8g8Cn6mi/tcBX8tY5liSrqFFJWXrgR+1+7PkR2Mf7rqxRvtkRBwVEX0R8XsR8TpJf/un0+6LlyS9BHwIOK5kvd2zbPd4kj8eU8bTsikTEfHzsnX2l7x+HXg+It4smQY4EkDSWkn3pydBXyJphS8pWf+FiDhYMj2ZrrsEeCvJH6Jy1bzvX4iI7RFxQUQsI+nyOh74eskiz0VE6TmLXxyDWeq/fIb6LQD2ldTvOpKWveVI1520sq60m6Rl+7szLDPbSde9JMH0RDq9Ii2rdv2K0r7+7wOfBX4QEf9P0i0k3SCzeZ6ki+gE4NGyedW870wR8aSkG4DSvvalklQS9iuAW6uo/+60fuV2k7Tol5T9EbOccYveWmEE+LiksyXNl/TW9ATnsjlsYzPwx5J6JS0BvphutxEWkvSpTwAHJa0Fzpp5lUREHAI2AV+VdHz6/k5Lw7fq9y3pPenJ3mXp9HKSbpT7SxZ7J/D7khZI+jRJV8+WKup/PXChpDMkzZO0VNJ7ImIfcAdwtaR3pPNOkPSbVR856woOemu6iNgNnAv8EUkY7Qb+I3P7/H0FGAMeAx4HHk7LGlG/V4HfB24C/i/wr0n6x6v1B2mdHgJeJDkpPG+O7/tV4J8CD0j6GUnAbwNKf0PwALCS5FvERuBTEfHCbPWPiAeBC4GvkZyU/R8k344g+RawEPhJuu5/pULXknUvTe/yM7NOJOkC4Hci4kPtrot1H7fozcxyzkFvZpZz7roxM8s5t+jNzHKuI6+jX7JkSfT397e7GmZmXWPr1q3PR0Rv1ryODPr+/n7GxsbaXQ0zs64habzSPHfdmJnlnIPezCznHPRmZjk3a9BLWi7pR+mgBk9IuiwtP0bSnZKeTp+PrrD+GklPSdoh6YpGvwEzM5tZNS36g8DlEfFekvtvXyLpROAK4K6IWAnclU5Pk45Ucw3JQAonAuvTdc3MrEVmDfqI2BcRD6evXwW2k4xQcy7JaDikz5/MWH0VsCMinomIN4DvpetZo42OQn8/zJuXPI+OtrtGZtYh5tRHL6kf+ADJXfSOTW9zSvqcNVjBUqYPKLEnLcva9pCkMUljExMTc6mWjY7C0BCMj0NE8jw05LA3M2AOQS/pSJLBDT4fEa9Uu1pGWeY9FyJiOCIGImKgtzfzmn+rZMMGmJycXjY5mZSbWeFVFfSSFpCE/GhE/F1avF/Scen840jG0Cy3h2QYsynLmD4qkDXCrl1zKzezQqnmqhuRjFCzPSK+WjLrVuD89PX5wA8yVn8IWCnpXZIWAucxtwEdrBorVsyt3MwKpZoW/enAZ4CPSnokfawD/hw4U9LTwJnpNOlwalsA0nEoLyUZ+X47cFNEPJG1E6vDxo3Q0zO9rKcnKTezwpv1XjcRcR+VB0k+I2P5vSQj0E9NbyEZ19KaZXAwed6wIemuWbEiCfmpcjMrtI68qZnVYHDQwW5mmXwLBDOznHPQm5nlnIPezCznHPRmZjnnoDczyzkHvZlZzjnozcxyzkFvZpZzDnozs5xz0JuZ5ZyD3sws5xz0ZmY556A3M8s5B72ZWc456M3Mcq6aoQQ3STogaVtJ2d+UjDa1U9IjFdbdKenxdLmxBtbbLNdGR6G/H+bNS55HR9tdI+tm1Qw8cgPwTeC7UwUR8dtTryVdDbw8w/ofiYjna62gWdGMjsLQEExOJtPj48k0eGwZq82sLfqIuAd4MWteOnD4vwI2N7heZoW1YcPhkJ8yOZmUm9Wi3j76fw7sj4inK8wP4A5JWyUNzbQhSUOSxiSNTUxM1Fkts+61a9fcys1mU2/Qr2fm1vzpEXEKsBa4RNKHKy0YEcMRMRARA729vXVWy6x7rVgxt3Kz2dQc9JKOAP4l8DeVlomIvenzAeBmYFWt+zMrio0boadnellPT1LeSD7hWxz1tOg/BjwZEXuyZkp6m6S3T70GzgK2ZS1rZocNDsLwMPT1gZQ8Dw839kTs1Anf8XGIOHzC12GfT4qImReQNgOrgSXAfuBLEXG9pBuA+yPi2pJljwe+HRHrJP0qSSsekqt7/joiqmqTDAwMxNiYr8Y0a5b+/iTcy/X1wc6dra6NNYKkrRExkDlvtqBvBwe9WXPNm5e05MtJcOhQ6+tj9Zsp6P3LWLMC8gnfYnHQmxVQq074Wmdw0JsVUCtO+FrnqOYWCGaWQ4ODDvaicIvezCznHPRmZjnnoDczyzkHvZlZzjnozcxyzkFvZpZzDnozs5xz0Ftz+B64Zh3DP5iyxvOgp2YdxS16azwPemrWURz01nge9NSsozjorfF8D1yzjjJr0EvaJOmApG0lZVdJek7SI+ljXYV110h6StIOSVc0suLWwXwPXLOOUk2L/gZgTUb51yLi5PSxpXympPnANcBa4ERgvaQT66msdQnfA9eso8x61U1E3COpv4ZtrwJ2RMQzAJK+B5wL/KSGbVm38T1wzTpGPX30l0p6LO3aOTpj/lJgd8n0nrQsk6QhSWOSxiYmJuqolpmZlao16P8SOAE4GdgHXJ2xjDLKKo5EHhHDETEQEQO9vb01VsvMzMrVFPQRsT8i3oyIQ8BfkXTTlNsDLC+ZXgbsrWV/ZmZWu5qCXtJxJZP/AtiWsdhDwEpJ75K0EDgPuLWW/ZmZWe1mPRkraTOwGlgiaQ/wJWC1pJNJumJ2Ap9Llz0e+HZErIuIg5IuBW4H5gObIuKJZrwJMzOrTBEVu83bZmBgIMbGxtpdDTOzriFpa0QMZM3zL2PNzHLOQW9mlnMOejOznHPQm5nlnIPezCznHPRmZjnnoDczyzkHvZlZzjnozcxyzkFvZpZzDnozs5xz0JuZ5ZyD3sws5xz0ZmY556A3M8s5B72ZWc7NGvSSNkk6IGlbSdl/lvSkpMck3SzpqArr7pT0uKRHJHkkEavd6Cj098O8ecnz6Gi7a2TWNapp0d8ArCkruxN4f0T8OvC/gStnWP8jEXFypZFPzGY1OgpDQzA+DhHJ89CQw96sSrMGfUTcA7xYVnZHRBxMJ+8HljWhbmaJDRtgcnJ62eRkUm5ms2pEH/2/BW6rMC+AOyRtlTQ000YkDUkakzQ2MTHRgGpZbuzaNbdyM5umrqCXtAE4CFT6Dn16RJwCrAUukfThStuKiOGIGIiIgd7e3nqqZXmzYsXcys1smpqDXtL5wDnAYERE1jIRsTd9PgDcDKyqdX9WYBs3Qk/P9LKenqTczGZVU9BLWgN8AfhERExWWOZtkt4+9Ro4C9iWtazZjAYHYXgY+vpASp6Hh5NyM5vVEbMtIGkzsBpYImkP8CWSq2zeAtwpCeD+iLhI0vHAtyNiHXAscHM6/wjgryPi75vyLiz/Bgcd7GY1mjXoI2J9RvH1FZbdC6xLXz8DnFRX7czMrG7+ZayZWc456M3Mcs5Bb2aWcw56M7Occ9CbmeWcg97MLOcc9GZmOeegNzPLOQe9mVnOOejNzHLOQW/F42EJrWBmvdeNWa5MDUs4NWLV1LCE4JumWW65RW/F4mEJrYAc9FYsHpbQCshBb8XiYQmtgBz0ViweltAKaNagl7RJ0gFJ20rKjpF0p6Sn0+ejK6y7RtJTknZIuqKRFTeriYcltAKqpkV/A7CmrOwK4K6IWAnclU5PI2k+cA2wFjgRWC/pxLpqa9YIg4OwcyccOpQ8O+Qt52YN+oi4B3ixrPhc4Mb09Y3AJzNWXQXsiIhnIuIN4HvpemZm1kK19tEfGxH7ANLnd2YssxTYXTK9Jy3LJGlI0piksYmJiRqrZWZm5Zp5MlYZZVFp4YgYjoiBiBjo7e1tYrXMzIql1qDfL+k4gPT5QMYye4DlJdPLgL017s/MzGpUa9DfCpyfvj4f+EHGMg8BKyW9S9JC4Lx0PTMza6FqLq/cDPxP4Nck7ZH074A/B86U9DRwZjqNpOMlbQGIiIPApcDtwHbgpoh4ojlvw8zMKqnmqpv1EXFcRCyIiGURcX1EvBARZ0TEyvT5xXTZvRGxrmTdLRHx7og4ISL8ixR840Qzaz3fvbKFfONEM2sH3wKhhXzjRDNrBwd9C/nGiWbWDg76FvKNE82sHRz0LeQbJ5pZOzjoW8g3TjSzdvBVNy02OOhgN7PWcovezCznHPRmZjnnoDczyzkHvZlZzjnozcxyzkFvZpZzDnozs5xz0JuZ5ZyD3sws52oOekm/JumRkscrkj5ftsxqSS+XLPPFumtsZmZzUvMtECLiKeBkAEnzgeeAmzMWvTcizql1P2ZmVp9Gdd2cAfw0IsYbtD0zM2uQRgX9ecDmCvNOk/SopNskva/SBiQNSRqTNDYxMdGgapmZWd1BL2kh8AngbzNmPwz0RcRJwDeAWyptJyKGI2IgIgZ6e3vrrZaZmaUa0aJfCzwcEfvLZ0TEKxHxWvp6C7BA0pIG7NPMzKrUiKBfT4VuG0m/Iknp61Xp/l5owD7NzKxKdQ08IqkHOBP4XEnZRQARcS3wKeBiSQeB14HzIiLq2aeZmc1NXS36iJiMiMUR8XJJ2bVpyBMR34yI90XESRFxakT8uN4Kd43RUejvh3nzkufR0XbXyMwKykMJNsPoKAwNweRkMj0+nkyDxxE0s5bzLRCaYcOGwyE/ZXIyKTczazEHfTPs2jW3cjOzJnLQN8OKFXMrNzNrIgd9M2zcCD0908t6epJyM7MWc9A3w+AgDA9DXx9IyfPwsE/Emllb+KqbZhkcdLCbWUdwi97MLOcc9GZmOeegNzPLOQe9mVnOOejNmsi3PLJO4KtuzJrEtzyyTuEWvVmT+JZH1ikc9GZN4lseWadw0Js1iW95ZJ2irqCXtFPS45IekTSWMV+S/kLSDkmPSTqlnv2ZdRPf8sg6RSNa9B+JiJMjYiBj3lpgZfoYAv6yAfsz6wq+5ZF1imZfdXMu8N10nNj7JR0l6biI2Nfk/Zp1BN/yyDpBvS36AO6QtFXSUMb8pcDukuk9adkvkTQkaUzS2MTERJ3VMjOzKfUG/ekRcQpJF80lkj5cNl8Z60TWhiJiOCIGImKgt7e3zmqZmdmUuoI+IvamzweAm4FVZYvsAZaXTC8D9tazTzMzm5uag17S2yS9feo1cBawrWyxW4HPplffnAq87P55M7PWqqdFfyxwn6RHgQeB/xYRfy/pIkkXpctsAZ4BdgB/BfxeXbVtJ9+0xMy6VM1X3UTEM8BJGeXXlrwO4JJa99ExfNMSM+ti/mVsNXzTEjPrYg76avimJWbWxRz01fBNS8ysiznoq+GblphZF3PQV8M3LTGzLuYRpqrlm5aYWZdyi97MLOcc9GZmOeegbwX/qtbM2sh99M3mX9WaWZu5Rd9s/lWtmbWZg77Z/KtaaxZ3CVqVHPTN5l/VWjNMdQmOj0PE4S5Bh71lcNA3m39Va83gLkGbAwd9s/lXtdYM7hK0OfBVN63gX9Vao61YkXTXZJWblalnKMHlkn4kabukJyRdlrHMakkvS3okfXyxvuqaGeAuQZuTelr0B4HLI+LhdOzYrZLujIiflC13b0ScU8d+zKzc1DfEDRuS7poVK5KQ9zdHy1Bziz4i9kXEw+nrV4HtwNJGVczMZjE4CDt3wqFDybNDvns1+VLZhpyMldQPfAB4IGP2aZIelXSbpPfNsI0hSWOSxiYmJhpRrel8zbGZdaIWXCpbd9BLOhL4PvD5iHilbPbDQF9EnAR8A7il0nYiYjgiBiJioLe3t95qTedrjq1I3KjpLi24VFYRUfvK0gLgh8DtEfHVKpbfCQxExPMzLTcwMBBjY2M11+uX9PdnX6HQ15d85TXLi/J7K0FyktaX9HauefOSBmg5KemWq5KkrRExkLmLWusmScD1wPZKIS/pV9LlkLQq3d8Lte6zZr7m2IrCP6TqPi349Xw9XTenA58BPlpy+eQ6SRdJuihd5lPANkmPAn8BnBf1fIWolW9DYEXhRk33acGlsjVfXhkR9wGaZZlvAt+sdR8Ns3Fj9tdZX3NseeMfUnWfFlwqW4xbIPg2BFYU/iFVd2rypbLFuQWCb0NgReAfUlmGYrTozYqkia1DX7nZnYrTojezmo2OwmWXwQsl18x5VMzu4Ra9mc1o6tL8FzIujPaVm93BQW/WqTqknyTr0vxSvnKz8znoLZ86JCRr1kG37ZgtyH3lZudz0Fv+dFBI1qyDfuE6U5D3aJKN6+5r6v67/W92J8hn0I+OwpIlyTXzUvLan47i6KCQrFkH/cI169J8CBYzwXD8DoM3nj33/19Vpnce/mZ3hIjouMcHP/jBqNnISMTChRHJ5+LwY8GCZJ7ln/TL//6QlHeLvr7s97B4cTJPSp7r+EyPjFS/qV8sy5vRx7Mxwvrp9errm9uOe3qmr9/Tk1mBSodhLrsrCmAsKmRq20M961FX0Ff6ZPjTURyzpcNMCTeX9GumrDBcuDBpsGSFf0k9q3kLc8ja6Sr934Lq39tMf8TK5OFvdqsUK+grfTLm+mG07pWRYiMLLoi+xa+GOBR9Gp/eIp1KuJrTr4nvozSxFy+u/LlO6zly8b3Ro5/N+hZqbinPn5+94vz51b+vmf6PllXULfrqFSvoZ2rRz+XDaN2tJCRHFv/76Dni59PDj9emh/3ixZVDrFGpUu+3hdkaMYsXR5/Gq3oLNbeUm9miz6hop/3t7WTFCvqRkcZ8GC03+ha/mp0pPDvzZ6WR/QSNSKyZAjJ9iDeregs1t5Qb0cSe6f9oxrHulN60TlesoI+o/BXX3/dm1in/o0ZGpv8blvVBz1XF8OPN6oK+EZ+bRgVk+R+Lskcfz1a1m5r/7jSqie3/ow1XnKCfCqqploG/71WvU74jj4xkn3BcuLC2uoyMVA6/alr0jToGjTqrWP5HsLSeixfHCOujh9emz9LPKp6QrenveiMaBJ3yecuRpgU9sAZ4CtgBXJExXyQjS+0AHgNOqWa7NQV9VjhM/efy973ZdcpZr0ZfNdXXlx1+pX308+Zl72/+/MZ9bhp9fLPCNg3PEdZHH88ml0JqPEYuvrcx76HROuUbZE40JeiB+cBPgV8FFgKPAieWLbMOuC0N/FOBB6rZ9pyDftGixoZDEXXKdWwznXCspS7p9qaFX/l14Bdf3PzWZatasA7PwmpW0J8G3F4yfSVwZdky1wHrS6afAo6bbdtzDvqZvnr7gtvq5LhFP+Pn4+KLk+VaEZAOYWuimYK+nlsgLAV2l0zvScvmugwAkoYkjUkam5iYqKNaZXzHpep0yhB0GzfCggW/XL5wYW11yf79PixeDCMj8K1vJdNNHsqtZfswy1BP0GcNDB41LJMURgxHxEBEDPT29tZRrTIeK7M6nTKu7uAgfOc7SRBPWbwYNm2qrS5Z72tkBJ5/3kFrhaGkxV/DitJpwFURcXY6fSVARPxZyTLXAXdHxOZ0+ilgdUTsm2nbAwMDMTY2Vn1lenrg9dd/uXzBAnjjjeq3Y2bWpSRtjYiBrHn1tOgfAlZKepekhcB5wK1ly9wKfFaJU4GXZwv5mkxOwqJF08sWLXLIm5lRx5ixEXFQ0qXA7SRX4GyKiCckXZTOvxbYQnLlzQ5gEriw/ipXMNMQOGZmBVbX4OARsYUkzEvLri15HcAl9ezDzMzqk8+BR8zM7Bcc9GZmOeegNzPLOQe9mVnO1XwdfTNJmgDGa1x9CfB8A6vTzXwsDvOxSPg4HJa3Y9EXEZm/Nu3IoK+HpLFKPxooGh+Lw3wsEj4OhxXpWLjrxsws5xz0ZmY5l8egH253BTqIj8VhPhYJH4fDCnMsctdHb2Zm0+WxRW9mZiUc9GZmOZeboJe0RtJTknZIuqLd9WklSZskHZC0raTsGEl3Sno6fT66nXVsFUnLJf1I0nZJT0i6LC0v3PGQ9FZJD0p6ND0Wf5KWF+5YAEiaL+l/SfphOl2Y45CLoJc0H7gGWAucCKyXdGJ7a9VSNwBrysquAO6KiJXAXel0ERwELo+I95IMSH9J+lko4vH4R+CjEXEScDKwJh0XoojHAuAyYHvJdGGOQy6CHlgF7IiIZyLiDeB7wLltrlPLRMQ9wItlxecCN6avbwQ+2co6tUtE7IuIh9PXr5L8x15KAY9HOmb0a+nkgvQRFPBYSFoG/Bbw7ZLiwhyHvAR91YOQF8ixU6N5pc/vbHN9Wk5SP/AB4AEKejzS7opHgAPAnRFR1GPxdeAPgUMlZYU5DnkJ+qoHIbdikHQk8H3g8xHxSrvr0y4R8WZEnAwsA1ZJen+bq9Ryks4BDkTE1nbXpV3yEvR7gOUl08uAvW2qS6fYL+k4gPT5QJvr0zKSFpCE/GhE/F1aXNjjARARLwF3k5zLKdqxOB34hKSdJN26H5U0QoGOQ16CvpqByovmVuD89PX5wA/aWJeWkSTgemB7RHy1ZFbhjoekXklHpa8XAR8DnqRgxyIiroyIZRHRT5IN/z0i/g0FOg65+WWspHUk/XBTA5VvbG+NWkfSZmA1yW1X9wNfAm4BbgJWALuAT0dE+Qnb3JH0IeBe4HEO98f+EUk/faGOh6RfJznJOJ+kUXdTRHxZ0mIKdiymSFoN/EFEnFOk45CboDczs2x56boxM7MKHPRmZjnnoDczyzkHvZlZzjnozcxyzkFvZpZzDnozs5z7/0495cdsM+dNAAAAAElFTkSuQmCC\n",
>>>>>>> 97af2b00aa8533b72eea413eba3a91cd574e4aad
      "text/plain": [
       "<Figure size 432x288 with 1 Axes>"
      ]
     },
     "metadata": {
      "needs_background": "light"
     },
     "output_type": "display_data"
    },
    {
     "name": "stderr",
     "output_type": "stream",
     "text": [
      "findfont: Font family ['Arial'] not found. Falling back to DejaVu Sans.\n"
     ]
    },
    {
     "data": {
<<<<<<< HEAD
      "image/png": "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\n",
      "text/plain": [
       "<Figure size 360x288 with 1 Axes>"
=======
      "image/png": "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\n",
      "text/plain": [
       "<Figure size 432x288 with 1 Axes>"
>>>>>>> 97af2b00aa8533b72eea413eba3a91cd574e4aad
      ]
     },
     "metadata": {
      "needs_background": "light"
     },
     "output_type": "display_data"
    }
   ],
   "source": [
    "# plot\n",
    "#Y_eval = Y[Y0.shape[0]:, :]\n",
    "plot_performance_space_diffcolor(Y0=-Y0, Y_eval=-Y_eval)\n",
    "plot_performance_metric(Y, problem.obj_type)"
   ]
  },
  {
   "cell_type": "code",
<<<<<<< HEAD
   "execution_count": 9,
=======
   "execution_count": 11,
>>>>>>> 97af2b00aa8533b72eea413eba3a91cd574e4aad
   "id": "9b3201d6",
   "metadata": {},
   "outputs": [
    {
     "data": {
<<<<<<< HEAD
      "image/png": "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\n",
      "text/plain": [
       "<Figure size 360x288 with 1 Axes>"
=======
      "image/png": "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\n",
      "text/plain": [
       "<Figure size 432x288 with 1 Axes>"
>>>>>>> 97af2b00aa8533b72eea413eba3a91cd574e4aad
      ]
     },
     "metadata": {
      "needs_background": "light"
     },
     "output_type": "display_data"
    }
   ],
   "source": [
    "Y_total = np.concatenate([Y, Y_eval], axis=0)\n",
    "Y_total.shape\n",
    "plot_performance_metric(Y_total, problem.obj_type)\n",
<<<<<<< HEAD
    "plt.savefig('HVE.png', dpi=300)"
=======
    "#plt.savefig('HVE.png', dpi=300)"
>>>>>>> 97af2b00aa8533b72eea413eba3a91cd574e4aad
   ]
  },
  {
   "cell_type": "code",
<<<<<<< HEAD
   "execution_count": 10,
   "id": "f11e7b62",
   "metadata": {},
   "outputs": [
    {
     "name": "stderr",
     "output_type": "stream",
     "text": [
      "No artists with labels found to put in legend.  Note that artists whose label start with an underscore are ignored when legend() is called with no argument.\n"
     ]
    },
    {
     "data": {
      "image/png": "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\n",
      "text/plain": [
       "<Figure size 360x288 with 1 Axes>"
=======
   "execution_count": 12,
   "id": "8188357b",
   "metadata": {},
   "outputs": [
    {
     "data": {
      "image/png": "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\n",
      "text/plain": [
       "<Figure size 432x288 with 1 Axes>"
>>>>>>> 97af2b00aa8533b72eea413eba3a91cd574e4aad
      ]
     },
     "metadata": {
      "needs_background": "light"
     },
     "output_type": "display_data"
    }
   ],
   "source": [
<<<<<<< HEAD
    "mpl.rcParams['axes.linewidth'] = 2\n",
    "fig, ax = plt.subplots(figsize=(5, 4))\n",
    "ax.tick_params(direction='in', length=4, width=1.5, colors='black', grid_alpha=0, labelsize='1')\n",
    "\n",
    "plt.scatter(-Y0[:, 0], -Y0[:, 1], color='black', s=50, alpha=0.8)\n",
    "plt.scatter(-Y_eval['Strength'], -Y_eval['Toughness'], color='red', marker='*', s=50)\n",
    "\n",
    "ax.set_xlabel('Strength (MPa)', fontsize='18', fontname='Arial', fontweight='bold')\n",
    "ax.set_ylabel('Toughness (MJ/m3)', fontsize='18', fontname='Arial', fontweight='bold')\n",
    "\n",
    "ymin, ymax = plt.ylim()\n",
    "xmin, xmax = plt.xlim()\n",
    "\n",
    "ax.set_xlim(xmin, xmax)\n",
    "ax.set_ylim(ymin, ymax)\n",
    "# Make a red line to show perfect predictions\n",
    "leg = plt.legend(frameon=\"True\", prop={'family': 'Arial'})\n",
    "ax.legend(['Initial', 'Evaluated'], frameon=True, ncol=1, fontsize=10)\n",
    "\n",
    "ax.tick_params(axis='both', labelsize=15)\n",
    "#ax.xaxis.set_tick_params(width=1)\n",
    "#ax.yaxis.set_tick_params(width=1)\n",
    "plt.tight_layout()\n",
    "plt.savefig('evaluated_initial.png', dpi=300)"
=======
    "import matplotlib as mpl\n",
    "\n",
    "mpl.rcParams['axes.linewidth'] = 2\n",
    "fig, ax = plt.subplots(figsize=(6,4))\n",
    "plt.scatter(-Y0[:, 0], -Y0[:, 1], color='blue', s=200, alpha=0.7)\n",
    "plt.scatter(-Y_eval['Strength'], -Y_eval['Toughness'], color='red', marker='*', s=200)\n",
    "ax.set_xlabel('Strength (MPa)', fontsize='18', fontname='Arial', fontweight='bold')\n",
    "ax.set_ylabel('Toughness (MJ/m3)', fontsize='18', fontname='Arial', fontweight='bold')\n",
    "ax.tick_params(axis='both', labelsize=15)\n",
    "ax.xaxis.set_tick_params(width=5)\n",
    "ax.yaxis.set_tick_params(width=5)\n",
    "plt.tight_layout()\n",
    "plt.savefig('evaluated_initial.png', dpi=300)\n"
   ]
  },
  {
   "cell_type": "code",
   "execution_count": null,
   "id": "4092eac9",
   "metadata": {},
   "outputs": [],
   "source": []
  },
  {
   "cell_type": "code",
   "execution_count": 13,
   "id": "3d834567",
   "metadata": {},
   "outputs": [
    {
     "data": {
      "text/plain": [
       "array([[-45.51,  -2.33],\n",
       "       [-17.95, -12.47],\n",
       "       [-32.74,  -0.69],\n",
       "       [-27.81,  -0.7 ],\n",
       "       [ -1.2 ,  -2.15],\n",
       "       [-28.33,  -2.97],\n",
       "       [-20.54,  -0.32],\n",
       "       [-27.03,  -1.05],\n",
       "       [-35.42,  -0.64],\n",
       "       [-21.52,  -0.4 ],\n",
       "       [-20.23,  -0.23],\n",
       "       [-29.07,  -0.45],\n",
       "       [-20.54,  -0.41],\n",
       "       [-17.16,  -0.17],\n",
       "       [-19.83,  -0.99],\n",
       "       [-29.19,  -2.06],\n",
       "       [ -5.35,  -6.68],\n",
       "       [-32.72,  -0.93],\n",
       "       [-20.8 , -10.57],\n",
       "       [-25.27,  -0.38],\n",
       "       [-20.76,  -0.62],\n",
       "       [-14.97, -15.49],\n",
       "       [-20.74,  -0.37],\n",
       "       [ -5.83,  -3.27],\n",
       "       [-20.33,  -0.41],\n",
       "       [-28.13,  -0.59],\n",
       "       [ -0.  ,  -0.  ],\n",
       "       [-21.79,  -0.6 ],\n",
       "       [ -0.  ,  -0.  ],\n",
       "       [ -0.  ,  -0.  ],\n",
       "       [ -0.  ,  -0.  ],\n",
       "       [ -0.  ,  -0.  ],\n",
       "       [ -9.55, -19.8 ],\n",
       "       [ -0.  ,  -0.  ],\n",
       "       [ -3.67,  -4.28],\n",
       "       [ -0.57,  -0.75],\n",
       "       [ -0.  ,  -0.  ],\n",
       "       [ -0.53,  -0.77],\n",
       "       [ -0.59,  -0.6 ],\n",
       "       [ -0.2 ,  -0.09],\n",
       "       [-35.33,  -0.78],\n",
       "       [-17.35,  -0.24],\n",
       "       [-12.2 ,  -0.24]])"
      ]
     },
     "execution_count": 13,
     "metadata": {},
     "output_type": "execute_result"
    }
   ],
   "source": [
    "Y0"
>>>>>>> 97af2b00aa8533b72eea413eba3a91cd574e4aad
   ]
  }
 ],
 "metadata": {
  "kernelspec": {
   "display_name": "Python 3 (ipykernel)",
   "language": "python",
   "name": "python3"
  },
  "language_info": {
   "codemirror_mode": {
    "name": "ipython",
    "version": 3
   },
   "file_extension": ".py",
   "mimetype": "text/x-python",
   "name": "python",
   "nbconvert_exporter": "python",
   "pygments_lexer": "ipython3",
   "version": "3.9.10"
  }
 },
 "nbformat": 4,
 "nbformat_minor": 5
}
