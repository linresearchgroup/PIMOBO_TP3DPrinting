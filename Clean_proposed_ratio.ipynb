{
 "cells": [
  {
   "cell_type": "code",
   "execution_count": null,
   "id": "79dd11b5",
   "metadata": {},
   "outputs": [],
   "source": [
    "import numpy as np\n",
    "\n",
    "\n",
    "E1 = [0.53956472, 0.17926051, 0.05136578, 0.03171326, 0.18953413]\n",
    "E1 = [round(e1, 2) for e1 in E1]\n",
    "E1 = [E1] + [round(1-sum(E1), 2)]\n",
    "print (E1)\n",
    "E1 = str(E1)\n",
    "E1 = E1.replace('[', '')\n",
    "E1 = E1.replace(']', '')\n",
    "E2 = [0.16041997, 0.30043165, 0.073412109, 0.17454401, 0.09292958]\n",
    "E2 = [round(e2, 2) for e2 in E2]\n",
    "E2 = [E2] + [round(1-sum(E2), 2)]\n",
    "E2 = str(E2)\n",
    "E2 = E2.replace('[', '')\n",
    "E2 = E2.replace(']', '')\n",
    "E3 = [0.16836643, 0.26945089, 0.11308402, 0.17356542, 0.09180488]\n",
    "E3 = [round(e1, 2) for e1 in E3]\n",
    "E3 = [E3] + [round(1-sum(E3), 2)]\n",
    "E3 = str(E3)\n",
    "E3 = E3.replace('[', '')\n",
    "E3 = E3.replace(']', '')\n",
    "E4 = [0.53469204, 0.19364906, 0.04954231, 0.03100594, 0.18916575]\n",
    "E4 = [round(e1, 2) for e1 in E4]\n",
    "E4 = [E4] + [round(1-sum(E4), 2)]\n",
    "E4 = str(E4)\n",
    "E4 = E4.replace('[', '')\n",
    "E4 = E4.replace(']', '')\n",
    "\n",
    "print ('', E1, '\\n', E2, '\\n', E3, '\\n', E4)"
   ]
  }
 ],
 "metadata": {
  "kernelspec": {
   "display_name": "Python 3 (ipykernel)",
   "language": "python",
   "name": "python3"
  },
  "language_info": {
   "codemirror_mode": {
    "name": "ipython",
    "version": 3
   },
   "file_extension": ".py",
   "mimetype": "text/x-python",
   "name": "python",
   "nbconvert_exporter": "python",
   "pygments_lexer": "ipython3",
   "version": "3.7.12"
  }
 },
 "nbformat": 4,
 "nbformat_minor": 5
}
